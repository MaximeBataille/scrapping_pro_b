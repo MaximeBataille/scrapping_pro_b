{
 "metadata": {
  "language_info": {
   "codemirror_mode": {
    "name": "ipython",
    "version": 3
   },
   "file_extension": ".py",
   "mimetype": "text/x-python",
   "name": "python",
   "nbconvert_exporter": "python",
   "pygments_lexer": "ipython3",
   "version": "3.8.5"
  },
  "orig_nbformat": 4,
  "kernelspec": {
   "name": "python3",
   "display_name": "Python 3.8.5 64-bit ('base': conda)"
  },
  "interpreter": {
   "hash": "99fd8c8f5034251d6366840a8a80100bdfdafe9b9aaea69c5224a20a1611197e"
  }
 },
 "nbformat": 4,
 "nbformat_minor": 2,
 "cells": [
  {
   "cell_type": "code",
   "execution_count": 1,
   "metadata": {},
   "outputs": [],
   "source": [
    "from scraping import * "
   ]
  },
  {
   "cell_type": "code",
   "execution_count": 2,
   "metadata": {},
   "outputs": [],
   "source": [
    "df = get_teams_stats(\"attack\")"
   ]
  },
  {
   "cell_type": "code",
   "execution_count": 3,
   "metadata": {},
   "outputs": [
    {
     "output_type": "execute_result",
     "data": {
      "text/plain": [
       "Index(['Equipes', 'MJ', 'Min', 'Pts', 'O', 'D', 'T', 'Pr', 'Ct', 'Pd', 'In',\n",
       "       'Bp', 'Fte', 'Fpr', 'Év', 'shoots_in', 'shoots_total', 'three_pts_in',\n",
       "       'three_pts_total', 'lf_in', 'lf_total'],\n",
       "      dtype='object')"
      ]
     },
     "metadata": {},
     "execution_count": 3
    }
   ],
   "source": [
    "df.columns"
   ]
  },
  {
   "cell_type": "code",
   "execution_count": 4,
   "metadata": {},
   "outputs": [
    {
     "output_type": "execute_result",
     "data": {
      "text/plain": [
       "              Equipes  MJ   Min   Pts    O    D     T   Pr   Ct   Pd  ...  \\\n",
       "0       Aix-Maurienne  33  6725  2545  365  749  1114   42   78  592  ...   \n",
       "1             Antibes  34  6825  2501  383  889  1272  129   80  528  ...   \n",
       "2               Blois  32  6450  2553  372  800  1172  100   77  635  ...   \n",
       "3              Denain  33  6625  2511  368  857  1225   55   88  567  ...   \n",
       "4              Evreux  34  6900  2710  304  832  1136   56   85  657  ...   \n",
       "5         Fos-sur-Mer  34  6875  2816  343  869  1212   87   88  702  ...   \n",
       "6    Gries-Oberhoffen  33  6625  2812  379  843  1222   96   81  621  ...   \n",
       "7               Lille  33  6675  2504  355  803  1158   85   98  637  ...   \n",
       "8               Nancy  34  6850  2850  350  837  1187   88   83  677  ...   \n",
       "9              Nantes  34  6850  2687  258  896  1154  104   71  635  ...   \n",
       "10              Paris  34  6825  2921  355  863  1218  129   53  670  ...   \n",
       "11           Poitiers  34  6875  2524  303  765  1068   73   80  627  ...   \n",
       "12            Quimper  34  6825  2682  307  826  1133   59  107  660  ...   \n",
       "13              Rouen  32  6550  2584  345  797  1142   71   71  570  ...   \n",
       "14      Saint-Chamond  34  6825  2682  309  868  1177   69   77  663  ...   \n",
       "15      Saint-Quentin  34  6800  2858  354  842  1196   57   71  615  ...   \n",
       "16  Souffelweyersheim  34  6850  2673  351  873  1224  100   86  626  ...   \n",
       "17     Vichy-Clermont  34  6800  2870  383  916  1299   68   94  650  ...   \n",
       "\n",
       "     Bp  Fte  Fpr    Év  shoots_in  shoots_total  three_pts_in  \\\n",
       "0   432  643  606  2797        949          2100           210   \n",
       "1   522  653  643  2754        932          2097           209   \n",
       "2   473  633  601  2967        943          2060           241   \n",
       "3   440  664  585  2835        923          2078           244   \n",
       "4   468  663  612  3099       1000          2141           264   \n",
       "5   466  696  620  3337       1017          2152           323   \n",
       "6   467  624  661  3201        978          2071           372   \n",
       "7   452  636  595  2888        950          2088           253   \n",
       "8   475  648  677  3290       1003          2151           362   \n",
       "9   500  626  617  3132        991          2078           234   \n",
       "10  510  594  645  3457       1047          2127           358   \n",
       "11  515  608  650  2686        920          2063           276   \n",
       "12  466  692  682  3070        968          2091           277   \n",
       "13  455  624  611  2868        953          2033           273   \n",
       "14  472  676  684  3006        943          2065           323   \n",
       "15  400  646  614  3253       1054          2236           343   \n",
       "16  458  663  644  3086        964          2126           318   \n",
       "17  542  722  746  3233        995          2157           304   \n",
       "\n",
       "    three_pts_total  lf_in  lf_total  \n",
       "0               673    437       606  \n",
       "1               677    428       633  \n",
       "2               757    426       582  \n",
       "3               773    421       563  \n",
       "4               761    446       593  \n",
       "5               847    459       604  \n",
       "6              1024    484       642  \n",
       "7               765    351       502  \n",
       "8               963    482       634  \n",
       "9               686    471       632  \n",
       "10              919    469       617  \n",
       "11              807    408       593  \n",
       "12              743    469       592  \n",
       "13              765    405       593  \n",
       "14              898    473       645  \n",
       "15              962    407       555  \n",
       "16              901    427       577  \n",
       "17              790    576       756  \n",
       "\n",
       "[18 rows x 21 columns]"
      ],
      "text/html": "<div>\n<style scoped>\n    .dataframe tbody tr th:only-of-type {\n        vertical-align: middle;\n    }\n\n    .dataframe tbody tr th {\n        vertical-align: top;\n    }\n\n    .dataframe thead th {\n        text-align: right;\n    }\n</style>\n<table border=\"1\" class=\"dataframe\">\n  <thead>\n    <tr style=\"text-align: right;\">\n      <th></th>\n      <th>Equipes</th>\n      <th>MJ</th>\n      <th>Min</th>\n      <th>Pts</th>\n      <th>O</th>\n      <th>D</th>\n      <th>T</th>\n      <th>Pr</th>\n      <th>Ct</th>\n      <th>Pd</th>\n      <th>...</th>\n      <th>Bp</th>\n      <th>Fte</th>\n      <th>Fpr</th>\n      <th>Év</th>\n      <th>shoots_in</th>\n      <th>shoots_total</th>\n      <th>three_pts_in</th>\n      <th>three_pts_total</th>\n      <th>lf_in</th>\n      <th>lf_total</th>\n    </tr>\n  </thead>\n  <tbody>\n    <tr>\n      <th>0</th>\n      <td>Aix-Maurienne</td>\n      <td>33</td>\n      <td>6725</td>\n      <td>2545</td>\n      <td>365</td>\n      <td>749</td>\n      <td>1114</td>\n      <td>42</td>\n      <td>78</td>\n      <td>592</td>\n      <td>...</td>\n      <td>432</td>\n      <td>643</td>\n      <td>606</td>\n      <td>2797</td>\n      <td>949</td>\n      <td>2100</td>\n      <td>210</td>\n      <td>673</td>\n      <td>437</td>\n      <td>606</td>\n    </tr>\n    <tr>\n      <th>1</th>\n      <td>Antibes</td>\n      <td>34</td>\n      <td>6825</td>\n      <td>2501</td>\n      <td>383</td>\n      <td>889</td>\n      <td>1272</td>\n      <td>129</td>\n      <td>80</td>\n      <td>528</td>\n      <td>...</td>\n      <td>522</td>\n      <td>653</td>\n      <td>643</td>\n      <td>2754</td>\n      <td>932</td>\n      <td>2097</td>\n      <td>209</td>\n      <td>677</td>\n      <td>428</td>\n      <td>633</td>\n    </tr>\n    <tr>\n      <th>2</th>\n      <td>Blois</td>\n      <td>32</td>\n      <td>6450</td>\n      <td>2553</td>\n      <td>372</td>\n      <td>800</td>\n      <td>1172</td>\n      <td>100</td>\n      <td>77</td>\n      <td>635</td>\n      <td>...</td>\n      <td>473</td>\n      <td>633</td>\n      <td>601</td>\n      <td>2967</td>\n      <td>943</td>\n      <td>2060</td>\n      <td>241</td>\n      <td>757</td>\n      <td>426</td>\n      <td>582</td>\n    </tr>\n    <tr>\n      <th>3</th>\n      <td>Denain</td>\n      <td>33</td>\n      <td>6625</td>\n      <td>2511</td>\n      <td>368</td>\n      <td>857</td>\n      <td>1225</td>\n      <td>55</td>\n      <td>88</td>\n      <td>567</td>\n      <td>...</td>\n      <td>440</td>\n      <td>664</td>\n      <td>585</td>\n      <td>2835</td>\n      <td>923</td>\n      <td>2078</td>\n      <td>244</td>\n      <td>773</td>\n      <td>421</td>\n      <td>563</td>\n    </tr>\n    <tr>\n      <th>4</th>\n      <td>Evreux</td>\n      <td>34</td>\n      <td>6900</td>\n      <td>2710</td>\n      <td>304</td>\n      <td>832</td>\n      <td>1136</td>\n      <td>56</td>\n      <td>85</td>\n      <td>657</td>\n      <td>...</td>\n      <td>468</td>\n      <td>663</td>\n      <td>612</td>\n      <td>3099</td>\n      <td>1000</td>\n      <td>2141</td>\n      <td>264</td>\n      <td>761</td>\n      <td>446</td>\n      <td>593</td>\n    </tr>\n    <tr>\n      <th>5</th>\n      <td>Fos-sur-Mer</td>\n      <td>34</td>\n      <td>6875</td>\n      <td>2816</td>\n      <td>343</td>\n      <td>869</td>\n      <td>1212</td>\n      <td>87</td>\n      <td>88</td>\n      <td>702</td>\n      <td>...</td>\n      <td>466</td>\n      <td>696</td>\n      <td>620</td>\n      <td>3337</td>\n      <td>1017</td>\n      <td>2152</td>\n      <td>323</td>\n      <td>847</td>\n      <td>459</td>\n      <td>604</td>\n    </tr>\n    <tr>\n      <th>6</th>\n      <td>Gries-Oberhoffen</td>\n      <td>33</td>\n      <td>6625</td>\n      <td>2812</td>\n      <td>379</td>\n      <td>843</td>\n      <td>1222</td>\n      <td>96</td>\n      <td>81</td>\n      <td>621</td>\n      <td>...</td>\n      <td>467</td>\n      <td>624</td>\n      <td>661</td>\n      <td>3201</td>\n      <td>978</td>\n      <td>2071</td>\n      <td>372</td>\n      <td>1024</td>\n      <td>484</td>\n      <td>642</td>\n    </tr>\n    <tr>\n      <th>7</th>\n      <td>Lille</td>\n      <td>33</td>\n      <td>6675</td>\n      <td>2504</td>\n      <td>355</td>\n      <td>803</td>\n      <td>1158</td>\n      <td>85</td>\n      <td>98</td>\n      <td>637</td>\n      <td>...</td>\n      <td>452</td>\n      <td>636</td>\n      <td>595</td>\n      <td>2888</td>\n      <td>950</td>\n      <td>2088</td>\n      <td>253</td>\n      <td>765</td>\n      <td>351</td>\n      <td>502</td>\n    </tr>\n    <tr>\n      <th>8</th>\n      <td>Nancy</td>\n      <td>34</td>\n      <td>6850</td>\n      <td>2850</td>\n      <td>350</td>\n      <td>837</td>\n      <td>1187</td>\n      <td>88</td>\n      <td>83</td>\n      <td>677</td>\n      <td>...</td>\n      <td>475</td>\n      <td>648</td>\n      <td>677</td>\n      <td>3290</td>\n      <td>1003</td>\n      <td>2151</td>\n      <td>362</td>\n      <td>963</td>\n      <td>482</td>\n      <td>634</td>\n    </tr>\n    <tr>\n      <th>9</th>\n      <td>Nantes</td>\n      <td>34</td>\n      <td>6850</td>\n      <td>2687</td>\n      <td>258</td>\n      <td>896</td>\n      <td>1154</td>\n      <td>104</td>\n      <td>71</td>\n      <td>635</td>\n      <td>...</td>\n      <td>500</td>\n      <td>626</td>\n      <td>617</td>\n      <td>3132</td>\n      <td>991</td>\n      <td>2078</td>\n      <td>234</td>\n      <td>686</td>\n      <td>471</td>\n      <td>632</td>\n    </tr>\n    <tr>\n      <th>10</th>\n      <td>Paris</td>\n      <td>34</td>\n      <td>6825</td>\n      <td>2921</td>\n      <td>355</td>\n      <td>863</td>\n      <td>1218</td>\n      <td>129</td>\n      <td>53</td>\n      <td>670</td>\n      <td>...</td>\n      <td>510</td>\n      <td>594</td>\n      <td>645</td>\n      <td>3457</td>\n      <td>1047</td>\n      <td>2127</td>\n      <td>358</td>\n      <td>919</td>\n      <td>469</td>\n      <td>617</td>\n    </tr>\n    <tr>\n      <th>11</th>\n      <td>Poitiers</td>\n      <td>34</td>\n      <td>6875</td>\n      <td>2524</td>\n      <td>303</td>\n      <td>765</td>\n      <td>1068</td>\n      <td>73</td>\n      <td>80</td>\n      <td>627</td>\n      <td>...</td>\n      <td>515</td>\n      <td>608</td>\n      <td>650</td>\n      <td>2686</td>\n      <td>920</td>\n      <td>2063</td>\n      <td>276</td>\n      <td>807</td>\n      <td>408</td>\n      <td>593</td>\n    </tr>\n    <tr>\n      <th>12</th>\n      <td>Quimper</td>\n      <td>34</td>\n      <td>6825</td>\n      <td>2682</td>\n      <td>307</td>\n      <td>826</td>\n      <td>1133</td>\n      <td>59</td>\n      <td>107</td>\n      <td>660</td>\n      <td>...</td>\n      <td>466</td>\n      <td>692</td>\n      <td>682</td>\n      <td>3070</td>\n      <td>968</td>\n      <td>2091</td>\n      <td>277</td>\n      <td>743</td>\n      <td>469</td>\n      <td>592</td>\n    </tr>\n    <tr>\n      <th>13</th>\n      <td>Rouen</td>\n      <td>32</td>\n      <td>6550</td>\n      <td>2584</td>\n      <td>345</td>\n      <td>797</td>\n      <td>1142</td>\n      <td>71</td>\n      <td>71</td>\n      <td>570</td>\n      <td>...</td>\n      <td>455</td>\n      <td>624</td>\n      <td>611</td>\n      <td>2868</td>\n      <td>953</td>\n      <td>2033</td>\n      <td>273</td>\n      <td>765</td>\n      <td>405</td>\n      <td>593</td>\n    </tr>\n    <tr>\n      <th>14</th>\n      <td>Saint-Chamond</td>\n      <td>34</td>\n      <td>6825</td>\n      <td>2682</td>\n      <td>309</td>\n      <td>868</td>\n      <td>1177</td>\n      <td>69</td>\n      <td>77</td>\n      <td>663</td>\n      <td>...</td>\n      <td>472</td>\n      <td>676</td>\n      <td>684</td>\n      <td>3006</td>\n      <td>943</td>\n      <td>2065</td>\n      <td>323</td>\n      <td>898</td>\n      <td>473</td>\n      <td>645</td>\n    </tr>\n    <tr>\n      <th>15</th>\n      <td>Saint-Quentin</td>\n      <td>34</td>\n      <td>6800</td>\n      <td>2858</td>\n      <td>354</td>\n      <td>842</td>\n      <td>1196</td>\n      <td>57</td>\n      <td>71</td>\n      <td>615</td>\n      <td>...</td>\n      <td>400</td>\n      <td>646</td>\n      <td>614</td>\n      <td>3253</td>\n      <td>1054</td>\n      <td>2236</td>\n      <td>343</td>\n      <td>962</td>\n      <td>407</td>\n      <td>555</td>\n    </tr>\n    <tr>\n      <th>16</th>\n      <td>Souffelweyersheim</td>\n      <td>34</td>\n      <td>6850</td>\n      <td>2673</td>\n      <td>351</td>\n      <td>873</td>\n      <td>1224</td>\n      <td>100</td>\n      <td>86</td>\n      <td>626</td>\n      <td>...</td>\n      <td>458</td>\n      <td>663</td>\n      <td>644</td>\n      <td>3086</td>\n      <td>964</td>\n      <td>2126</td>\n      <td>318</td>\n      <td>901</td>\n      <td>427</td>\n      <td>577</td>\n    </tr>\n    <tr>\n      <th>17</th>\n      <td>Vichy-Clermont</td>\n      <td>34</td>\n      <td>6800</td>\n      <td>2870</td>\n      <td>383</td>\n      <td>916</td>\n      <td>1299</td>\n      <td>68</td>\n      <td>94</td>\n      <td>650</td>\n      <td>...</td>\n      <td>542</td>\n      <td>722</td>\n      <td>746</td>\n      <td>3233</td>\n      <td>995</td>\n      <td>2157</td>\n      <td>304</td>\n      <td>790</td>\n      <td>576</td>\n      <td>756</td>\n    </tr>\n  </tbody>\n</table>\n<p>18 rows × 21 columns</p>\n</div>"
     },
     "metadata": {},
     "execution_count": 4
    }
   ],
   "source": [
    "df"
   ]
  },
  {
   "cell_type": "code",
   "execution_count": null,
   "metadata": {},
   "outputs": [],
   "source": []
  }
 ]
}